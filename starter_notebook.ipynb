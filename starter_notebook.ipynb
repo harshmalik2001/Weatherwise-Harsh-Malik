{
  "cells": [
    {
      "cell_type": "markdown",
      "metadata": {
        "id": "view-in-github",
        "colab_type": "text"
      },
      "source": [
        "<a href=\"https://colab.research.google.com/github/harshmalik2001/Weatherwise-Harsh-Malik/blob/main/starter_notebook.ipynb\" target=\"_parent\"><img src=\"https://colab.research.google.com/assets/colab-badge.svg\" alt=\"Open In Colab\"/></a>"
      ]
    },
    {
      "cell_type": "markdown",
      "id": "fa8c7f6c",
      "metadata": {
        "id": "fa8c7f6c"
      },
      "source": [
        "## 🧰 Setup and Imports\n",
        "\n",
        "This section imports commonly used packages and installs any additional tools used in the project.\n",
        "\n",
        "- You may not need all of these unless you're using specific features (e.g. visualisations, advanced prompting).\n",
        "- The notebook assumes the following packages are **pre-installed** in the provided environment or installable via pip:\n",
        "  - `requests`, `matplotlib`, `pyinputplus`\n",
        "  - `fetch-my-weather` (for accessing weather data easily)\n",
        "  - `hands-on-ai` (for AI logging, comparisons, or prompting tools)\n",
        "\n",
        "If you're running this notebook in **Google Colab**, uncomment the following lines to install the required packages.\n"
      ]
    },
    {
      "cell_type": "code",
      "source": [
        "#installing necessary packages\n",
        "!pip install pyinputplus matplotlib requests\n"
      ],
      "metadata": {
        "colab": {
          "base_uri": "https://localhost:8080/"
        },
        "id": "Fo9maU_wSIJE",
        "outputId": "8472afe3-0be6-4f0f-fd74-bfc974a827d4"
      },
      "id": "Fo9maU_wSIJE",
      "execution_count": 14,
      "outputs": [
        {
          "output_type": "stream",
          "name": "stdout",
          "text": [
            "Collecting pyinputplus\n",
            "  Downloading PyInputPlus-0.2.12.tar.gz (20 kB)\n",
            "  Installing build dependencies ... \u001b[?25l\u001b[?25hdone\n",
            "  Getting requirements to build wheel ... \u001b[?25l\u001b[?25hdone\n",
            "  Preparing metadata (pyproject.toml) ... \u001b[?25l\u001b[?25hdone\n",
            "Requirement already satisfied: matplotlib in /usr/local/lib/python3.12/dist-packages (3.10.0)\n",
            "Requirement already satisfied: requests in /usr/local/lib/python3.12/dist-packages (2.32.4)\n",
            "Collecting pysimplevalidate>=0.2.7 (from pyinputplus)\n",
            "  Downloading PySimpleValidate-0.2.12.tar.gz (22 kB)\n",
            "  Installing build dependencies ... \u001b[?25l\u001b[?25hdone\n",
            "  Getting requirements to build wheel ... \u001b[?25l\u001b[?25hdone\n",
            "  Preparing metadata (pyproject.toml) ... \u001b[?25l\u001b[?25hdone\n",
            "Collecting stdiomask>=0.0.3 (from pyinputplus)\n",
            "  Downloading stdiomask-0.0.6.tar.gz (3.6 kB)\n",
            "  Installing build dependencies ... \u001b[?25l\u001b[?25hdone\n",
            "  Getting requirements to build wheel ... \u001b[?25l\u001b[?25hdone\n",
            "  Preparing metadata (pyproject.toml) ... \u001b[?25l\u001b[?25hdone\n",
            "Requirement already satisfied: contourpy>=1.0.1 in /usr/local/lib/python3.12/dist-packages (from matplotlib) (1.3.3)\n",
            "Requirement already satisfied: cycler>=0.10 in /usr/local/lib/python3.12/dist-packages (from matplotlib) (0.12.1)\n",
            "Requirement already satisfied: fonttools>=4.22.0 in /usr/local/lib/python3.12/dist-packages (from matplotlib) (4.60.1)\n",
            "Requirement already satisfied: kiwisolver>=1.3.1 in /usr/local/lib/python3.12/dist-packages (from matplotlib) (1.4.9)\n",
            "Requirement already satisfied: numpy>=1.23 in /usr/local/lib/python3.12/dist-packages (from matplotlib) (2.0.2)\n",
            "Requirement already satisfied: packaging>=20.0 in /usr/local/lib/python3.12/dist-packages (from matplotlib) (25.0)\n",
            "Requirement already satisfied: pillow>=8 in /usr/local/lib/python3.12/dist-packages (from matplotlib) (11.3.0)\n",
            "Requirement already satisfied: pyparsing>=2.3.1 in /usr/local/lib/python3.12/dist-packages (from matplotlib) (3.2.5)\n",
            "Requirement already satisfied: python-dateutil>=2.7 in /usr/local/lib/python3.12/dist-packages (from matplotlib) (2.9.0.post0)\n",
            "Requirement already satisfied: charset_normalizer<4,>=2 in /usr/local/lib/python3.12/dist-packages (from requests) (3.4.3)\n",
            "Requirement already satisfied: idna<4,>=2.5 in /usr/local/lib/python3.12/dist-packages (from requests) (3.10)\n",
            "Requirement already satisfied: urllib3<3,>=1.21.1 in /usr/local/lib/python3.12/dist-packages (from requests) (2.5.0)\n",
            "Requirement already satisfied: certifi>=2017.4.17 in /usr/local/lib/python3.12/dist-packages (from requests) (2025.10.5)\n",
            "Requirement already satisfied: six>=1.5 in /usr/local/lib/python3.12/dist-packages (from python-dateutil>=2.7->matplotlib) (1.17.0)\n",
            "Building wheels for collected packages: pyinputplus, pysimplevalidate, stdiomask\n",
            "  Building wheel for pyinputplus (pyproject.toml) ... \u001b[?25l\u001b[?25hdone\n",
            "  Created wheel for pyinputplus: filename=pyinputplus-0.2.12-py3-none-any.whl size=11348 sha256=10d8f7dcd89465a8b3c7b0469c5a6c4edc78bfa9faff153231794a76a0ed4da0\n",
            "  Stored in directory: /root/.cache/pip/wheels/85/81/c1/325c8199c5c4de8a0b9af900ff9cd8bd69853e3d9419493512\n",
            "  Building wheel for pysimplevalidate (pyproject.toml) ... \u001b[?25l\u001b[?25hdone\n",
            "  Created wheel for pysimplevalidate: filename=pysimplevalidate-0.2.12-py3-none-any.whl size=16225 sha256=8dab74520f2c8f79a931201ffc5428c005e0b78486b7fb961bb409b251e1fc88\n",
            "  Stored in directory: /root/.cache/pip/wheels/09/de/18/4dd2be0dbdf31870c6f0abde43b0de197b1c095655ad7da5c2\n",
            "  Building wheel for stdiomask (pyproject.toml) ... \u001b[?25l\u001b[?25hdone\n",
            "  Created wheel for stdiomask: filename=stdiomask-0.0.6-py3-none-any.whl size=3358 sha256=5b8751eb8e1c1d9ff8a471891fab380f2356051692abba43c028709e372bbe2d\n",
            "  Stored in directory: /root/.cache/pip/wheels/05/c7/e6/c66ff8c008b4d73f2db458feb4922075e7755853fe496e5135\n",
            "Successfully built pyinputplus pysimplevalidate stdiomask\n",
            "Installing collected packages: stdiomask, pysimplevalidate, pyinputplus\n",
            "Successfully installed pyinputplus-0.2.12 pysimplevalidate-0.2.12 stdiomask-0.0.6\n"
          ]
        }
      ]
    },
    {
      "cell_type": "markdown",
      "source": [
        "Import required packages and setup environment.\n"
      ],
      "metadata": {
        "id": "h-FAwZjJXIse"
      },
      "id": "h-FAwZjJXIse"
    },
    {
      "cell_type": "code",
      "source": [
        "import os\n",
        "import requests\n",
        "import matplotlib.pyplot as plt\n",
        "import pyinputplus as pyip\n",
        "\n"
      ],
      "metadata": {
        "id": "B2JKlJfrGgIb"
      },
      "id": "B2JKlJfrGgIb",
      "execution_count": 16,
      "outputs": []
    },
    {
      "cell_type": "markdown",
      "id": "f736ade3",
      "metadata": {
        "id": "f736ade3"
      },
      "source": [
        "## 🌤️ Weather Data Functions"
      ]
    },
    {
      "cell_type": "code",
      "execution_count": 36,
      "id": "7a2c7cd0",
      "metadata": {
        "id": "7a2c7cd0",
        "colab": {
          "base_uri": "https://localhost:8080/"
        },
        "outputId": "d262a24a-6265-427f-a8c2-3cdf66d695e9"
      },
      "outputs": [
        {
          "output_type": "stream",
          "name": "stdout",
          "text": [
            "{'current_condition': [{'FeelsLikeC': '25', 'FeelsLikeF': '77', 'cloudcover': '75', 'humidity': '57', 'localObsDateTime': '2025-10-16 11:11 AM', 'observation_time': '03:11 AM', 'precipInches': '0.0', 'precipMM': '0.0', 'pressure': '1018', 'pressureInches': '30', 'temp_C': '23', 'temp_F': '74', 'uvIndex': '7', 'visibility': '10', 'visibilityMiles': '6', 'weatherCode': '116', 'weatherDesc': [{'value': 'Partly cloudy'}], 'weatherIconUrl': [{'value': ''}], 'winddir16Point': 'W', 'winddirDegree': '280', 'windspeedKmph': '13', 'windspeedMiles': '8'}], 'nearest_area': [{'areaName': [{'value': 'Perth'}], 'country': [{'value': 'Australia'}], 'latitude': '-31.933', 'longitude': '115.833', 'population': '1896548', 'region': [{'value': 'Western Australia'}], 'weatherUrl': [{'value': ''}]}], 'request': [{'query': 'Lat -31.95 and Lon 115.86', 'type': 'LatLon'}], 'weather': [{'astronomy': [{'moon_illumination': '27', 'moon_phase': 'Waning Crescent', 'moonrise': '02:50 AM', 'moonset': '01:42 PM', 'sunrise': '05:36 AM', 'sunset': '06:29 PM'}], 'avgtempC': '18', 'avgtempF': '65', 'date': '2025-10-16', 'hourly': [{'DewPointC': '13', 'DewPointF': '55', 'FeelsLikeC': '16', 'FeelsLikeF': '61', 'HeatIndexC': '16', 'HeatIndexF': '61', 'WindChillC': '16', 'WindChillF': '61', 'WindGustKmph': '14', 'WindGustMiles': '9', 'chanceoffog': '0', 'chanceoffrost': '0', 'chanceofhightemp': '0', 'chanceofovercast': '44', 'chanceofrain': '0', 'chanceofremdry': '91', 'chanceofsnow': '0', 'chanceofsunshine': '88', 'chanceofthunder': '0', 'chanceofwindy': '0', 'cloudcover': '29', 'diffRad': '0.0', 'humidity': '79', 'precipInches': '0.0', 'precipMM': '0.0', 'pressure': '1017', 'pressureInches': '30', 'shortRad': '0.0', 'tempC': '16', 'tempF': '61', 'time': '0', 'uvIndex': '0', 'visibility': '10', 'visibilityMiles': '6', 'weatherCode': '116', 'weatherDesc': [{'value': 'Partly Cloudy '}], 'weatherIconUrl': [{'value': ''}], 'winddir16Point': 'SW', 'winddirDegree': '232', 'windspeedKmph': '8', 'windspeedMiles': '5'}, {'DewPointC': '13', 'DewPointF': '56', 'FeelsLikeC': '16', 'FeelsLikeF': '61', 'HeatIndexC': '16', 'HeatIndexF': '61', 'WindChillC': '16', 'WindChillF': '61', 'WindGustKmph': '10', 'WindGustMiles': '6', 'chanceoffog': '0', 'chanceoffrost': '0', 'chanceofhightemp': '0', 'chanceofovercast': '40', 'chanceofrain': '0', 'chanceofremdry': '84', 'chanceofsnow': '0', 'chanceofsunshine': '86', 'chanceofthunder': '0', 'chanceofwindy': '0', 'cloudcover': '58', 'diffRad': '0.0', 'humidity': '84', 'precipInches': '0.0', 'precipMM': '0.0', 'pressure': '1016', 'pressureInches': '30', 'shortRad': '0.0', 'tempC': '16', 'tempF': '61', 'time': '300', 'uvIndex': '0', 'visibility': '10', 'visibilityMiles': '6', 'weatherCode': '116', 'weatherDesc': [{'value': 'Partly Cloudy '}], 'weatherIconUrl': [{'value': ''}], 'winddir16Point': 'WSW', 'winddirDegree': '246', 'windspeedKmph': '6', 'windspeedMiles': '4'}, {'DewPointC': '13', 'DewPointF': '56', 'FeelsLikeC': '16', 'FeelsLikeF': '60', 'HeatIndexC': '16', 'HeatIndexF': '60', 'WindChillC': '16', 'WindChillF': '60', 'WindGustKmph': '5', 'WindGustMiles': '3', 'chanceoffog': '0', 'chanceoffrost': '0', 'chanceofhightemp': '0', 'chanceofovercast': '81', 'chanceofrain': '0', 'chanceofremdry': '81', 'chanceofsnow': '0', 'chanceofsunshine': '10', 'chanceofthunder': '0', 'chanceofwindy': '0', 'cloudcover': '75', 'diffRad': '0.6', 'humidity': '85', 'precipInches': '0.0', 'precipMM': '0.0', 'pressure': '1018', 'pressureInches': '30', 'shortRad': '1.2', 'tempC': '16', 'tempF': '60', 'time': '600', 'uvIndex': '0', 'visibility': '10', 'visibilityMiles': '6', 'weatherCode': '119', 'weatherDesc': [{'value': 'Cloudy '}], 'weatherIconUrl': [{'value': ''}], 'winddir16Point': 'N', 'winddirDegree': '3', 'windspeedKmph': '3', 'windspeedMiles': '2'}, {'DewPointC': '14', 'DewPointF': '57', 'FeelsLikeC': '20', 'FeelsLikeF': '67', 'HeatIndexC': '20', 'HeatIndexF': '67', 'WindChillC': '20', 'WindChillF': '67', 'WindGustKmph': '8', 'WindGustMiles': '5', 'chanceoffog': '0', 'chanceoffrost': '0', 'chanceofhightemp': '0', 'chanceofovercast': '80', 'chanceofrain': '62', 'chanceofremdry': '0', 'chanceofsnow': '0', 'chanceofsunshine': '0', 'chanceofthunder': '0', 'chanceofwindy': '0', 'cloudcover': '59', 'diffRad': '134.4', 'humidity': '69', 'precipInches': '0.0', 'precipMM': '0.0', 'pressure': '1020', 'pressureInches': '30', 'shortRad': '554.9', 'tempC': '20', 'tempF': '67', 'time': '900', 'uvIndex': '3', 'visibility': '10', 'visibilityMiles': '6', 'weatherCode': '176', 'weatherDesc': [{'value': 'Patchy rain nearby'}], 'weatherIconUrl': [{'value': ''}], 'winddir16Point': 'NW', 'winddirDegree': '314', 'windspeedKmph': '7', 'windspeedMiles': '4'}, {'DewPointC': '13', 'DewPointF': '56', 'FeelsLikeC': '21', 'FeelsLikeF': '70', 'HeatIndexC': '24', 'HeatIndexF': '76', 'WindChillC': '21', 'WindChillF': '70', 'WindGustKmph': '17', 'WindGustMiles': '11', 'chanceoffog': '0', 'chanceoffrost': '0', 'chanceofhightemp': '0', 'chanceofovercast': '0', 'chanceofrain': '0', 'chanceofremdry': '87', 'chanceofsnow': '0', 'chanceofsunshine': '85', 'chanceofthunder': '0', 'chanceofwindy': '0', 'cloudcover': '8', 'diffRad': '165.7', 'humidity': '61', 'precipInches': '0.0', 'precipMM': '0.0', 'pressure': '1019', 'pressureInches': '30', 'shortRad': '775.7', 'tempC': '21', 'tempF': '70', 'time': '1200', 'uvIndex': '9', 'visibility': '10', 'visibilityMiles': '6', 'weatherCode': '113', 'weatherDesc': [{'value': 'Sunny'}], 'weatherIconUrl': [{'value': ''}], 'winddir16Point': 'W', 'winddirDegree': '269', 'windspeedKmph': '15', 'windspeedMiles': '9'}, {'DewPointC': '13', 'DewPointF': '56', 'FeelsLikeC': '21', 'FeelsLikeF': '70', 'HeatIndexC': '24', 'HeatIndexF': '76', 'WindChillC': '21', 'WindChillF': '70', 'WindGustKmph': '18', 'WindGustMiles': '11', 'chanceoffog': '0', 'chanceoffrost': '0', 'chanceofhightemp': '0', 'chanceofovercast': '84', 'chanceofrain': '0', 'chanceofremdry': '82', 'chanceofsnow': '0', 'chanceofsunshine': '5', 'chanceofthunder': '0', 'chanceofwindy': '0', 'cloudcover': '100', 'diffRad': '170.5', 'humidity': '61', 'precipInches': '0.0', 'precipMM': '0.0', 'pressure': '1018', 'pressureInches': '30', 'shortRad': '752.1', 'tempC': '21', 'tempF': '70', 'time': '1500', 'uvIndex': '5', 'visibility': '10', 'visibilityMiles': '6', 'weatherCode': '122', 'weatherDesc': [{'value': 'Overcast '}], 'weatherIconUrl': [{'value': ''}], 'winddir16Point': 'WSW', 'winddirDegree': '244', 'windspeedKmph': '16', 'windspeedMiles': '10'}, {'DewPointC': '14', 'DewPointF': '57', 'FeelsLikeC': '19', 'FeelsLikeF': '67', 'HeatIndexC': '19', 'HeatIndexF': '67', 'WindChillC': '19', 'WindChillF': '67', 'WindGustKmph': '16', 'WindGustMiles': '10', 'chanceoffog': '0', 'chanceoffrost': '0', 'chanceofhightemp': '0', 'chanceofovercast': '38', 'chanceofrain': '0', 'chanceofremdry': '80', 'chanceofsnow': '0', 'chanceofsunshine': '75', 'chanceofthunder': '0', 'chanceofwindy': '0', 'cloudcover': '33', 'diffRad': '146.6', 'humidity': '71', 'precipInches': '0.0', 'precipMM': '0.0', 'pressure': '1018', 'pressureInches': '30', 'shortRad': '398.3', 'tempC': '19', 'tempF': '67', 'time': '1800', 'uvIndex': '0', 'visibility': '10', 'visibilityMiles': '6', 'weatherCode': '116', 'weatherDesc': [{'value': 'Partly Cloudy '}], 'weatherIconUrl': [{'value': ''}], 'winddir16Point': 'SSW', 'winddirDegree': '209', 'windspeedKmph': '11', 'windspeedMiles': '7'}, {'DewPointC': '14', 'DewPointF': '58', 'FeelsLikeC': '17', 'FeelsLikeF': '63', 'HeatIndexC': '17', 'HeatIndexF': '63', 'WindChillC': '17', 'WindChillF': '63', 'WindGustKmph': '16', 'WindGustMiles': '10', 'chanceoffog': '0', 'chanceoffrost': '0', 'chanceofhightemp': '0', 'chanceofovercast': '0', 'chanceofrain': '0', 'chanceofremdry': '83', 'chanceofsnow': '0', 'chanceofsunshine': '87', 'chanceofthunder': '0', 'chanceofwindy': '0', 'cloudcover': '0', 'diffRad': '0.0', 'humidity': '83', 'precipInches': '0.0', 'precipMM': '0.0', 'pressure': '1019', 'pressureInches': '30', 'shortRad': '0.0', 'tempC': '17', 'tempF': '63', 'time': '2100', 'uvIndex': '0', 'visibility': '10', 'visibilityMiles': '6', 'weatherCode': '113', 'weatherDesc': [{'value': 'Clear '}], 'weatherIconUrl': [{'value': ''}], 'winddir16Point': 'S', 'winddirDegree': '169', 'windspeedKmph': '10', 'windspeedMiles': '6'}], 'maxtempC': '21', 'maxtempF': '71', 'mintempC': '16', 'mintempF': '60', 'sunHour': '11.3', 'totalSnow_cm': '0.0', 'uvIndex': '2'}, {'astronomy': [{'moon_illumination': '18', 'moon_phase': 'Waning Crescent', 'moonrise': '03:21 AM', 'moonset': '02:41 PM', 'sunrise': '05:35 AM', 'sunset': '06:30 PM'}], 'avgtempC': '20', 'avgtempF': '67', 'date': '2025-10-17', 'hourly': [{'DewPointC': '13', 'DewPointF': '56', 'FeelsLikeC': '16', 'FeelsLikeF': '60', 'HeatIndexC': '16', 'HeatIndexF': '60', 'WindChillC': '16', 'WindChillF': '60', 'WindGustKmph': '16', 'WindGustMiles': '10', 'chanceoffog': '0', 'chanceoffrost': '0', 'chanceofhightemp': '0', 'chanceofovercast': '0', 'chanceofrain': '0', 'chanceofremdry': '90', 'chanceofsnow': '0', 'chanceofsunshine': '88', 'chanceofthunder': '0', 'chanceofwindy': '0', 'cloudcover': '0', 'diffRad': '0.0', 'humidity': '84', 'precipInches': '0.0', 'precipMM': '0.0', 'pressure': '1017', 'pressureInches': '30', 'shortRad': '0.0', 'tempC': '16', 'tempF': '60', 'time': '0', 'uvIndex': '0', 'visibility': '10', 'visibilityMiles': '6', 'weatherCode': '113', 'weatherDesc': [{'value': 'Clear '}], 'weatherIconUrl': [{'value': ''}], 'winddir16Point': 'SE', 'winddirDegree': '129', 'windspeedKmph': '9', 'windspeedMiles': '6'}, {'DewPointC': '11', 'DewPointF': '53', 'FeelsLikeC': '15', 'FeelsLikeF': '59', 'HeatIndexC': '15', 'HeatIndexF': '59', 'WindChillC': '15', 'WindChillF': '59', 'WindGustKmph': '15', 'WindGustMiles': '9', 'chanceoffog': '0', 'chanceoffrost': '0', 'chanceofhightemp': '0', 'chanceofovercast': '0', 'chanceofrain': '0', 'chanceofremdry': '86', 'chanceofsnow': '0', 'chanceofsunshine': '92', 'chanceofthunder': '0', 'chanceofwindy': '0', 'cloudcover': '0', 'diffRad': '0.0', 'humidity': '78', 'precipInches': '0.0', 'precipMM': '0.0', 'pressure': '1015', 'pressureInches': '30', 'shortRad': '0.0', 'tempC': '15', 'tempF': '59', 'time': '300', 'uvIndex': '0', 'visibility': '10', 'visibilityMiles': '6', 'weatherCode': '113', 'weatherDesc': [{'value': 'Clear '}], 'weatherIconUrl': [{'value': ''}], 'winddir16Point': 'ESE', 'winddirDegree': '110', 'windspeedKmph': '8', 'windspeedMiles': '5'}, {'DewPointC': '11', 'DewPointF': '52', 'FeelsLikeC': '15', 'FeelsLikeF': '59', 'HeatIndexC': '15', 'HeatIndexF': '59', 'WindChillC': '15', 'WindChillF': '59', 'WindGustKmph': '16', 'WindGustMiles': '10', 'chanceoffog': '0', 'chanceoffrost': '0', 'chanceofhightemp': '0', 'chanceofovercast': '0', 'chanceofrain': '0', 'chanceofremdry': '94', 'chanceofsnow': '0', 'chanceofsunshine': '85', 'chanceofthunder': '0', 'chanceofwindy': '0', 'cloudcover': '2', 'diffRad': '0.7', 'humidity': '76', 'precipInches': '0.0', 'precipMM': '0.0', 'pressure': '1015', 'pressureInches': '30', 'shortRad': '1.4', 'tempC': '15', 'tempF': '59', 'time': '600', 'uvIndex': '0', 'visibility': '10', 'visibilityMiles': '6', 'weatherCode': '113', 'weatherDesc': [{'value': 'Sunny'}], 'weatherIconUrl': [{'value': ''}], 'winddir16Point': 'ENE', 'winddirDegree': '60', 'windspeedKmph': '9', 'windspeedMiles': '5'}, {'DewPointC': '12', 'DewPointF': '53', 'FeelsLikeC': '21', 'FeelsLikeF': '70', 'HeatIndexC': '21', 'HeatIndexF': '70', 'WindChillC': '21', 'WindChillF': '70', 'WindGustKmph': '15', 'WindGustMiles': '9', 'chanceoffog': '0', 'chanceoffrost': '0', 'chanceofhightemp': '0', 'chanceofovercast': '0', 'chanceofrain': '0', 'chanceofremdry': '92', 'chanceofsnow': '0', 'chanceofsunshine': '92', 'chanceofthunder': '0', 'chanceofwindy': '0', 'cloudcover': '0', 'diffRad': '152.8', 'humidity': '56', 'precipInches': '0.0', 'precipMM': '0.0', 'pressure': '1014', 'pressureInches': '30', 'shortRad': '550.0', 'tempC': '21', 'tempF': '70', 'time': '900', 'uvIndex': '4', 'visibility': '10', 'visibilityMiles': '6', 'weatherCode': '113', 'weatherDesc': [{'value': 'Sunny'}], 'weatherIconUrl': [{'value': ''}], 'winddir16Point': 'NNE', 'winddirDegree': '25', 'windspeedKmph': '12', 'windspeedMiles': '8'}, {'DewPointC': '12', 'DewPointF': '53', 'FeelsLikeC': '26', 'FeelsLikeF': '78', 'HeatIndexC': '26', 'HeatIndexF': '78', 'WindChillC': '25', 'WindChillF': '78', 'WindGustKmph': '26', 'WindGustMiles': '16', 'chanceoffog': '0', 'chanceoffrost': '0', 'chanceofhightemp': '71', 'chanceofovercast': '0', 'chanceofrain': '0', 'chanceofremdry': '94', 'chanceofsnow': '0', 'chanceofsunshine': '93', 'chanceofthunder': '0', 'chanceofwindy': '0', 'cloudcover': '0', 'diffRad': '114.0', 'humidity': '42', 'precipInches': '0.0', 'precipMM': '0.0', 'pressure': '1011', 'pressureInches': '30', 'shortRad': '798.9', 'tempC': '25', 'tempF': '78', 'time': '1200', 'uvIndex': '10', 'visibility': '10', 'visibilityMiles': '6', 'weatherCode': '113', 'weatherDesc': [{'value': 'Sunny'}], 'weatherIconUrl': [{'value': ''}], 'winddir16Point': 'NW', 'winddirDegree': '306', 'windspeedKmph': '18', 'windspeedMiles': '11'}, {'DewPointC': '12', 'DewPointF': '53', 'FeelsLikeC': '25', 'FeelsLikeF': '77', 'HeatIndexC': '25', 'HeatIndexF': '77', 'WindChillC': '24', 'WindChillF': '75', 'WindGustKmph': '32', 'WindGustMiles': '20', 'chanceoffog': '0', 'chanceoffrost': '0', 'chanceofhightemp': '15', 'chanceofovercast': '0', 'chanceofrain': '0', 'chanceofremdry': '82', 'chanceofsnow': '0', 'chanceofsunshine': '89', 'chanceofthunder': '0', 'chanceofwindy': '0', 'cloudcover': '4', 'diffRad': '93.3', 'humidity': '46', 'precipInches': '0.0', 'precipMM': '0.0', 'pressure': '1010', 'pressureInches': '30', 'shortRad': '780.1', 'tempC': '24', 'tempF': '75', 'time': '1500', 'uvIndex': '5', 'visibility': '10', 'visibilityMiles': '6', 'weatherCode': '113', 'weatherDesc': [{'value': 'Sunny'}], 'weatherIconUrl': [{'value': ''}], 'winddir16Point': 'NW', 'winddirDegree': '309', 'windspeedKmph': '24', 'windspeedMiles': '15'}, {'DewPointC': '15', 'DewPointF': '59', 'FeelsLikeC': '20', 'FeelsLikeF': '69', 'HeatIndexC': '20', 'HeatIndexF': '69', 'WindChillC': '20', 'WindChillF': '69', 'WindGustKmph': '23', 'WindGustMiles': '15', 'chanceoffog': '0', 'chanceoffrost': '0', 'chanceofhightemp': '0', 'chanceofovercast': '0', 'chanceofrain': '0', 'chanceofremdry': '81', 'chanceofsnow': '0', 'chanceofsunshine': '87', 'chanceofthunder': '0', 'chanceofwindy': '0', 'cloudcover': '5', 'diffRad': '73.5', 'humidity': '71', 'precipInches': '0.0', 'precipMM': '0.0', 'pressure': '1010', 'pressureInches': '30', 'shortRad': '477.3', 'tempC': '20', 'tempF': '69', 'time': '1800', 'uvIndex': '0', 'visibility': '10', 'visibilityMiles': '6', 'weatherCode': '113', 'weatherDesc': [{'value': 'Sunny'}], 'weatherIconUrl': [{'value': ''}], 'winddir16Point': 'WNW', 'winddirDegree': '299', 'windspeedKmph': '17', 'windspeedMiles': '10'}, {'DewPointC': '16', 'DewPointF': '60', 'FeelsLikeC': '19', 'FeelsLikeF': '66', 'HeatIndexC': '19', 'HeatIndexF': '66', 'WindChillC': '19', 'WindChillF': '66', 'WindGustKmph': '24', 'WindGustMiles': '15', 'chanceoffog': '0', 'chanceoffrost': '0', 'chanceofhightemp': '0', 'chanceofovercast': '0', 'chanceofrain': '0', 'chanceofremdry': '94', 'chanceofsnow': '0', 'chanceofsunshine': '86', 'chanceofthunder': '0', 'chanceofwindy': '0', 'cloudcover': '5', 'diffRad': '0.0', 'humidity': '81', 'precipInches': '0.0', 'precipMM': '0.0', 'pressure': '1010', 'pressureInches': '30', 'shortRad': '0.0', 'tempC': '19', 'tempF': '66', 'time': '2100', 'uvIndex': '0', 'visibility': '10', 'visibilityMiles': '6', 'weatherCode': '113', 'weatherDesc': [{'value': 'Clear '}], 'weatherIconUrl': [{'value': ''}], 'winddir16Point': 'NW', 'winddirDegree': '307', 'windspeedKmph': '16', 'windspeedMiles': '10'}], 'maxtempC': '25', 'maxtempF': '78', 'mintempC': '15', 'mintempF': '59', 'sunHour': '13.0', 'totalSnow_cm': '0.0', 'uvIndex': '2'}, {'astronomy': [{'moon_illumination': '11', 'moon_phase': 'Waning Crescent', 'moonrise': '03:48 AM', 'moonset': '03:40 PM', 'sunrise': '05:34 AM', 'sunset': '06:30 PM'}], 'avgtempC': '18', 'avgtempF': '64', 'date': '2025-10-18', 'hourly': [{'DewPointC': '16', 'DewPointF': '61', 'FeelsLikeC': '19', 'FeelsLikeF': '65', 'HeatIndexC': '19', 'HeatIndexF': '65', 'WindChillC': '19', 'WindChillF': '65', 'WindGustKmph': '29', 'WindGustMiles': '18', 'chanceoffog': '0', 'chanceoffrost': '0', 'chanceofhightemp': '0', 'chanceofovercast': '32', 'chanceofrain': '0', 'chanceofremdry': '85', 'chanceofsnow': '0', 'chanceofsunshine': '86', 'chanceofthunder': '0', 'chanceofwindy': '0', 'cloudcover': '56', 'diffRad': '0.0', 'humidity': '87', 'precipInches': '0.0', 'precipMM': '0.0', 'pressure': '1009', 'pressureInches': '30', 'shortRad': '0.0', 'tempC': '19', 'tempF': '65', 'time': '0', 'uvIndex': '0', 'visibility': '10', 'visibilityMiles': '6', 'weatherCode': '116', 'weatherDesc': [{'value': 'Partly Cloudy '}], 'weatherIconUrl': [{'value': ''}], 'winddir16Point': 'NW', 'winddirDegree': '325', 'windspeedKmph': '19', 'windspeedMiles': '12'}, {'DewPointC': '17', 'DewPointF': '63', 'FeelsLikeC': '18', 'FeelsLikeF': '65', 'HeatIndexC': '18', 'HeatIndexF': '65', 'WindChillC': '18', 'WindChillF': '65', 'WindGustKmph': '35', 'WindGustMiles': '22', 'chanceoffog': '0', 'chanceoffrost': '0', 'chanceofhightemp': '0', 'chanceofovercast': '80', 'chanceofrain': '100', 'chanceofremdry': '0', 'chanceofsnow': '0', 'chanceofsunshine': '0', 'chanceofthunder': '0', 'chanceofwindy': '0', 'cloudcover': '100', 'diffRad': '0.0', 'humidity': '93', 'precipInches': '0.0', 'precipMM': '0.2', 'pressure': '1008', 'pressureInches': '30', 'shortRad': '0.0', 'tempC': '18', 'tempF': '65', 'time': '300', 'uvIndex': '0', 'visibility': '10', 'visibilityMiles': '6', 'weatherCode': '353', 'weatherDesc': [{'value': 'Light rain shower'}], 'weatherIconUrl': [{'value': ''}], 'winddir16Point': 'NW', 'winddirDegree': '321', 'windspeedKmph': '23', 'windspeedMiles': '15'}, {'DewPointC': '15', 'DewPointF': '59', 'FeelsLikeC': '18', 'FeelsLikeF': '65', 'HeatIndexC': '18', 'HeatIndexF': '65', 'WindChillC': '18', 'WindChillF': '65', 'WindGustKmph': '33', 'WindGustMiles': '21', 'chanceoffog': '0', 'chanceoffrost': '0', 'chanceofhightemp': '0', 'chanceofovercast': '88', 'chanceofrain': '100', 'chanceofremdry': '0', 'chanceofsnow': '0', 'chanceofsunshine': '0', 'chanceofthunder': '0', 'chanceofwindy': '0', 'cloudcover': '71', 'diffRad': '0.8', 'humidity': '83', 'precipInches': '0.0', 'precipMM': '0.1', 'pressure': '1009', 'pressureInches': '30', 'shortRad': '1.5', 'tempC': '18', 'tempF': '65', 'time': '600', 'uvIndex': '0', 'visibility': '10', 'visibilityMiles': '6', 'weatherCode': '176', 'weatherDesc': [{'value': 'Patchy rain nearby'}], 'weatherIconUrl': [{'value': ''}], 'winddir16Point': 'W', 'winddirDegree': '271', 'windspeedKmph': '23', 'windspeedMiles': '14'}, {'DewPointC': '13', 'DewPointF': '56', 'FeelsLikeC': '18', 'FeelsLikeF': '65', 'HeatIndexC': '18', 'HeatIndexF': '65', 'WindChillC': '18', 'WindChillF': '65', 'WindGustKmph': '36', 'WindGustMiles': '22', 'chanceoffog': '0', 'chanceoffrost': '0', 'chanceofhightemp': '0', 'chanceofovercast': '94', 'chanceofrain': '100', 'chanceofremdry': '0', 'chanceofsnow': '0', 'chanceofsunshine': '0', 'chanceofthunder': '0', 'chanceofwindy': '0', 'cloudcover': '80', 'diffRad': '137.4', 'humidity': '71', 'precipInches': '0.0', 'precipMM': '0.1', 'pressure': '1011', 'pressureInches': '30', 'shortRad': '247.1', 'tempC': '18', 'tempF': '65', 'time': '900', 'uvIndex': '2', 'visibility': '10', 'visibilityMiles': '6', 'weatherCode': '176', 'weatherDesc': [{'value': 'Patchy rain nearby'}], 'weatherIconUrl': [{'value': ''}], 'winddir16Point': 'W', 'winddirDegree': '266', 'windspeedKmph': '29', 'windspeedMiles': '18'}, {'DewPointC': '12', 'DewPointF': '53', 'FeelsLikeC': '19', 'FeelsLikeF': '66', 'HeatIndexC': '19', 'HeatIndexF': '66', 'WindChillC': '19', 'WindChillF': '66', 'WindGustKmph': '35', 'WindGustMiles': '22', 'chanceoffog': '0', 'chanceoffrost': '0', 'chanceofhightemp': '0', 'chanceofovercast': '83', 'chanceofrain': '100', 'chanceofremdry': '0', 'chanceofsnow': '0', 'chanceofsunshine': '0', 'chanceofthunder': '0', 'chanceofwindy': '0', 'cloudcover': '69', 'diffRad': '235.8', 'humidity': '63', 'precipInches': '0.0', 'precipMM': '0.1', 'pressure': '1011', 'pressureInches': '30', 'shortRad': '432.8', 'tempC': '19', 'tempF': '66', 'time': '1200', 'uvIndex': '6', 'visibility': '10', 'visibilityMiles': '6', 'weatherCode': '176', 'weatherDesc': [{'value': 'Patchy rain nearby'}], 'weatherIconUrl': [{'value': ''}], 'winddir16Point': 'W', 'winddirDegree': '265', 'windspeedKmph': '30', 'windspeedMiles': '18'}, {'DewPointC': '10', 'DewPointF': '50', 'FeelsLikeC': '18', 'FeelsLikeF': '65', 'HeatIndexC': '18', 'HeatIndexF': '65', 'WindChillC': '18', 'WindChillF': '65', 'WindGustKmph': '31', 'WindGustMiles': '20', 'chanceoffog': '0', 'chanceoffrost': '0', 'chanceofhightemp': '0', 'chanceofovercast': '86', 'chanceofrain': '100', 'chanceofremdry': '0', 'chanceofsnow': '0', 'chanceofsunshine': '0', 'chanceofthunder': '0', 'chanceofwindy': '0', 'cloudcover': '63', 'diffRad': '259.8', 'humidity': '59', 'precipInches': '0.0', 'precipMM': '0.1', 'pressure': '1010', 'pressureInches': '30', 'shortRad': '487.9', 'tempC': '18', 'tempF': '65', 'time': '1500', 'uvIndex': '4', 'visibility': '10', 'visibilityMiles': '6', 'weatherCode': '176', 'weatherDesc': [{'value': 'Patchy rain nearby'}], 'weatherIconUrl': [{'value': ''}], 'winddir16Point': 'WSW', 'winddirDegree': '254', 'windspeedKmph': '27', 'windspeedMiles': '17'}, {'DewPointC': '8', 'DewPointF': '47', 'FeelsLikeC': '17', 'FeelsLikeF': '63', 'HeatIndexC': '17', 'HeatIndexF': '63', 'WindChillC': '17', 'WindChillF': '63', 'WindGustKmph': '28', 'WindGustMiles': '17', 'chanceoffog': '0', 'chanceoffrost': '0', 'chanceofhightemp': '0', 'chanceofovercast': '92', 'chanceofrain': '64', 'chanceofremdry': '0', 'chanceofsnow': '0', 'chanceofsunshine': '0', 'chanceofthunder': '0', 'chanceofwindy': '0', 'cloudcover': '62', 'diffRad': '153.3', 'humidity': '56', 'precipInches': '0.0', 'precipMM': '0.0', 'pressure': '1011', 'pressureInches': '30', 'shortRad': '326.8', 'tempC': '17', 'tempF': '63', 'time': '1800', 'uvIndex': '0', 'visibility': '10', 'visibilityMiles': '6', 'weatherCode': '176', 'weatherDesc': [{'value': 'Patchy rain nearby'}], 'weatherIconUrl': [{'value': ''}], 'winddir16Point': 'WSW', 'winddirDegree': '243', 'windspeedKmph': '21', 'windspeedMiles': '13'}, {'DewPointC': '7', 'DewPointF': '45', 'FeelsLikeC': '17', 'FeelsLikeF': '62', 'HeatIndexC': '17', 'HeatIndexF': '62', 'WindChillC': '17', 'WindChillF': '62', 'WindGustKmph': '25', 'WindGustMiles': '15', 'chanceoffog': '0', 'chanceoffrost': '0', 'chanceofhightemp': '0', 'chanceofovercast': '80', 'chanceofrain': '81', 'chanceofremdry': '0', 'chanceofsnow': '0', 'chanceofsunshine': '0', 'chanceofthunder': '0', 'chanceofwindy': '0', 'cloudcover': '100', 'diffRad': '0.0', 'humidity': '55', 'precipInches': '0.0', 'precipMM': '0.0', 'pressure': '1011', 'pressureInches': '30', 'shortRad': '0.0', 'tempC': '17', 'tempF': '62', 'time': '2100', 'uvIndex': '0', 'visibility': '10', 'visibilityMiles': '6', 'weatherCode': '176', 'weatherDesc': [{'value': 'Patchy rain nearby'}], 'weatherIconUrl': [{'value': ''}], 'winddir16Point': 'WSW', 'winddirDegree': '244', 'windspeedKmph': '18', 'windspeedMiles': '11'}], 'maxtempC': '19', 'maxtempF': '66', 'mintempC': '16', 'mintempF': '61', 'sunHour': '10.0', 'totalSnow_cm': '0.0', 'uvIndex': '2'}]}\n"
          ]
        }
      ],
      "source": [
        "# Define get_weather_data() function here\n",
        "\n",
        "def get_weather_data(location, forecast_days):\n",
        "    \"\"\"\n",
        "    Fetches weather data of  a particular city and forecast_days as arguements\n",
        "    - In the get_weather_data() function we build a api url using the city name\n",
        "    for example(\"Perth)\n",
        "    - The other arguement apart from the city is the number of forecast days\n",
        "    for which we have to observe the weather\n",
        "    -   Sends the get request to wttr from which we receive the data in JSON format\n",
        "    \"\"\"\n",
        "    url = f\"https://wttr.in/{location}?format=j1\"\n",
        "    try:\n",
        "        response = requests.get(url)\n",
        "        response.raise_for_status()\n",
        "        data = response.json()\n",
        "        data['weather'] = data['weather'][:forecast_days]\n",
        "        return data\n",
        "    except Exception as e:\n",
        "        print(f\"Error fetching weather data: {e}\")\n",
        "        return None\n",
        "\n",
        "# Example usage:\n",
        "weather = get_weather_data(\"Perth\", 3)\n",
        "print(weather)\n"
      ]
    },
    {
      "cell_type": "code",
      "source": [
        "weather_data = get_weather_data(\"Perth\",5)\n",
        "print(weather_data.keys())\n",
        "# knowing the keys of the data returned from wttr request in JSON format so that we can know the thype of labels or keys the JSON data have"
      ],
      "metadata": {
        "colab": {
          "base_uri": "https://localhost:8080/"
        },
        "id": "GHaL4M06bzTT",
        "outputId": "08adb4c9-3fc0-4a03-fa7d-39c5a2484636"
      },
      "id": "GHaL4M06bzTT",
      "execution_count": 31,
      "outputs": [
        {
          "output_type": "stream",
          "name": "stdout",
          "text": [
            "dict_keys(['current_condition', 'nearest_area', 'request', 'weather'])\n"
          ]
        }
      ]
    },
    {
      "cell_type": "markdown",
      "id": "8a744fdc",
      "metadata": {
        "id": "8a744fdc"
      },
      "source": [
        "## 📊 Visualisation Functions"
      ]
    },
    {
      "cell_type": "code",
      "execution_count": 58,
      "id": "9dc3bf85",
      "metadata": {
        "id": "9dc3bf85",
        "colab": {
          "base_uri": "https://localhost:8080/",
          "height": 472
        },
        "outputId": "992ef5f1-4713-4e29-931c-e5f0ebf04f37"
      },
      "outputs": [
        {
          "output_type": "display_data",
          "data": {
            "text/plain": [
              "<Figure size 640x480 with 1 Axes>"
            ],
            "image/png": "[encoded data removed]"
          },
          "metadata": {}
        }
      ],
      "source": [
        "   def create_temperature_visualisation(weather_data, output_type='display'):\n",
        "    \"\"\"\n",
        "    Create visualisation of temperature data.\n",
        "\n",
        "    This chunk of code visualizes the temperature data it will have the weather_data from the get_weather_data() function and the\n",
        "    output_type is set as display to display the chart in the notebook itself\n",
        "    \"\"\"\n",
        "    days = []\n",
        "    max_temps = []\n",
        "    min_temps = []\n",
        "    for day in weather_data['weather']:\n",
        "        days.append(day['date'])\n",
        "        max_temps.append(float(day['maxtempC']))\n",
        "        min_temps.append(float(day['mintempC']))\n",
        "    fig, ax = plt.subplots()\n",
        "    ax.plot(days, max_temps, label='Max Temp (°C)', marker='o')\n",
        "    ax.plot(days, min_temps, label='Min Temp (°C)', marker='o')\n",
        "    ax.set_title('Temperature Trend')\n",
        "    ax.set_xlabel('Date')\n",
        "    ax.set_ylabel('Temperature (°C)')\n",
        "    ax.legend()\n",
        "    plt.grid(True)\n",
        "    if output_type == 'figure':\n",
        "        return fig\n",
        "    else:\n",
        "        plt.show()\n",
        "\n",
        "data = get_weather_data(\"Perth\", 3)\n",
        "create_temperature_visualisation(data)\n"
      ]
    },
    {
      "cell_type": "code",
      "source": [
        "# Precipitation Visualisation Function\n",
        "def create_precipitation_visualisation(weather_data, output_type='display'):\n",
        "    \"\"\"\n",
        "    Create visualisation of precipitation data.\n",
        "    This chunk of code visualizes the precipitation data it will have the weather_data from the get_weather_data() function and the\n",
        "    output_type is set as display to display the chart in the notebook itself\n",
        "    \"\"\"\n",
        "    days = []\n",
        "    precip = []\n",
        "    for day in weather_data['weather']:\n",
        "        days.append(day['date'])\n",
        "        # Sum up all hourly precipitation for the day\n",
        "        total_precip = sum(float(hour['precipMM']) for hour in day['hourly'])\n",
        "        precip.append(total_precip)\n",
        "    fig, ax = plt.subplots()\n",
        "    ax.bar(days, precip, color='skyblue')\n",
        "    ax.set_title('Precipitation Trend')\n",
        "    ax.set_xlabel('Date')\n",
        "    ax.set_ylabel('Precipitation (mm)')\n",
        "    plt.grid(True)\n",
        "    if output_type == 'figure':\n",
        "        return fig\n",
        "    else:\n",
        "        plt.show()\n",
        "\n"
      ],
      "metadata": {
        "id": "HpOlQylYG5Ho"
      },
      "id": "HpOlQylYG5Ho",
      "execution_count": 44,
      "outputs": []
    },
    {
      "cell_type": "code",
      "source": [],
      "metadata": {
        "id": "Rf1w3KKLd4xP"
      },
      "id": "Rf1w3KKLd4xP",
      "execution_count": null,
      "outputs": []
    },
    {
      "cell_type": "markdown",
      "id": "9f95d160",
      "metadata": {
        "id": "9f95d160"
      },
      "source": [
        "## 🤖 Natural Language Processing"
      ]
    },
    {
      "cell_type": "code",
      "execution_count": 48,
      "id": "bcc5833e",
      "metadata": {
        "id": "bcc5833e",
        "colab": {
          "base_uri": "https://localhost:8080/"
        },
        "outputId": "3a0a2352-f4a6-41ef-e112-4ff89a39bcc5"
      },
      "outputs": [
        {
          "output_type": "stream",
          "name": "stdout",
          "text": [
            "{'location': 'perth', 'attribute': 'temperature', 'time_period': 'today'}\n"
          ]
        }
      ],
      "source": []
    },
    {
      "cell_type": "markdown",
      "id": "0d85225e",
      "metadata": {
        "id": "0d85225e"
      },
      "source": [
        "## 🧭 User Interface"
      ]
    },
    {
      "cell_type": "code",
      "execution_count": 49,
      "id": "fa6cb0f6",
      "metadata": {
        "id": "fa6cb0f6"
      },
      "outputs": [],
      "source": []
    },
    {
      "cell_type": "markdown",
      "id": "d643a53c",
      "metadata": {
        "id": "d643a53c"
      },
      "source": [
        "## 🧩 Main Application Logic"
      ]
    },
    {
      "cell_type": "markdown",
      "source": [],
      "metadata": {
        "id": "sdYUF_DPVCkm"
      },
      "id": "sdYUF_DPVCkm"
    },
    {
      "cell_type": "code",
      "execution_count": 50,
      "id": "a9e2e805",
      "metadata": {
        "id": "a9e2e805"
      },
      "outputs": [],
      "source": []
    },
    {
      "cell_type": "markdown",
      "id": "fde44479",
      "metadata": {
        "id": "fde44479"
      },
      "source": [
        "## 🧪 Testing and Examples"
      ]
    },
    {
      "cell_type": "code",
      "execution_count": null,
      "id": "4e573901",
      "metadata": {
        "id": "4e573901"
      },
      "outputs": [],
      "source": [
        "# Include sample input/output for each function"
      ]
    },
    {
      "cell_type": "code",
      "source": [],
      "metadata": {
        "colab": {
          "base_uri": "https://localhost:8080/"
        },
        "id": "j3vqXejIVEo-",
        "outputId": "8a8c82b8-591c-46fd-f485-c2b0bf70e7ef"
      },
      "id": "j3vqXejIVEo-",
      "execution_count": 53,
      "outputs": [
        {
          "output_type": "stream",
          "name": "stdout",
          "text": [
            "In Perth on 2025-10-17, the temperature will range from 15°C to 25°C.\n"
          ]
        }
      ]
    },
    {
      "cell_type": "markdown",
      "id": "d2885880",
      "metadata": {
        "id": "d2885880"
      },
      "source": [
        "## 🗂️ AI Prompting Log (Optional)\n",
        "Add markdown cells here summarising prompts used or link to AI conversations in the `ai-conversations/` folder."
      ]
    }
  ],
  "metadata": {
    "language_info": {
      "name": "python"
    },
    "colab": {
      "provenance": [],
      "include_colab_link": true
    },
    "kernelspec": {
      "name": "python3",
      "display_name": "Python 3"
    }
  },
  "nbformat": 4,
  "nbformat_minor": 5
}