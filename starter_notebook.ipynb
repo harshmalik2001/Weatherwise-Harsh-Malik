{
  "cells": [
    {
      "cell_type": "markdown",
      "metadata": {
        "id": "view-in-github",
        "colab_type": "text"
      },
      "source": [
        "<a href=\"https://colab.research.google.com/github/harshmalik2001/Weatherwise-Harsh-Malik/blob/main/starter_notebook.ipynb\" target=\"_parent\"><img src=\"https://colab.research.google.com/assets/colab-badge.svg\" alt=\"Open In Colab\"/></a>"
      ]
    },
    {
      "cell_type": "markdown",
      "source": [
        "## Installing all the necessary Packages"
      ],
      "metadata": {
        "id": "tggWtRdfiiLJ"
      },
      "id": "tggWtRdfiiLJ"
    },
    {
      "cell_type": "code",
      "source": [
        "#installing necessary packages\n",
        "!pip install pyinputplus matplotlib requests\n"
      ],
      "metadata": {
        "colab": {
          "base_uri": "https://localhost:8080/"
        },
        "id": "Fo9maU_wSIJE",
        "outputId": "8f393d98-aa7e-4fd9-e7b7-b4879e9e8f47"
      },
      "id": "Fo9maU_wSIJE",
      "execution_count": 2,
      "outputs": [
        {
          "output_type": "stream",
          "name": "stdout",
          "text": [
            "Collecting pyinputplus\n",
            "  Downloading PyInputPlus-0.2.12.tar.gz (20 kB)\n",
            "  Installing build dependencies ... \u001b[?25l\u001b[?25hdone\n",
            "  Getting requirements to build wheel ... \u001b[?25l\u001b[?25hdone\n",
            "  Preparing metadata (pyproject.toml) ... \u001b[?25l\u001b[?25hdone\n",
            "Requirement already satisfied: matplotlib in /usr/local/lib/python3.12/dist-packages (3.10.0)\n",
            "Requirement already satisfied: requests in /usr/local/lib/python3.12/dist-packages (2.32.4)\n",
            "Collecting pysimplevalidate>=0.2.7 (from pyinputplus)\n",
            "  Downloading PySimpleValidate-0.2.12.tar.gz (22 kB)\n",
            "  Installing build dependencies ... \u001b[?25l\u001b[?25hdone\n",
            "  Getting requirements to build wheel ... \u001b[?25l\u001b[?25hdone\n",
            "  Preparing metadata (pyproject.toml) ... \u001b[?25l\u001b[?25hdone\n",
            "Collecting stdiomask>=0.0.3 (from pyinputplus)\n",
            "  Downloading stdiomask-0.0.6.tar.gz (3.6 kB)\n",
            "  Installing build dependencies ... \u001b[?25l\u001b[?25hdone\n",
            "  Getting requirements to build wheel ... \u001b[?25l\u001b[?25hdone\n",
            "  Preparing metadata (pyproject.toml) ... \u001b[?25l\u001b[?25hdone\n",
            "Requirement already satisfied: contourpy>=1.0.1 in /usr/local/lib/python3.12/dist-packages (from matplotlib) (1.3.3)\n",
            "Requirement already satisfied: cycler>=0.10 in /usr/local/lib/python3.12/dist-packages (from matplotlib) (0.12.1)\n",
            "Requirement already satisfied: fonttools>=4.22.0 in /usr/local/lib/python3.12/dist-packages (from matplotlib) (4.60.1)\n",
            "Requirement already satisfied: kiwisolver>=1.3.1 in /usr/local/lib/python3.12/dist-packages (from matplotlib) (1.4.9)\n",
            "Requirement already satisfied: numpy>=1.23 in /usr/local/lib/python3.12/dist-packages (from matplotlib) (2.0.2)\n",
            "Requirement already satisfied: packaging>=20.0 in /usr/local/lib/python3.12/dist-packages (from matplotlib) (25.0)\n",
            "Requirement already satisfied: pillow>=8 in /usr/local/lib/python3.12/dist-packages (from matplotlib) (11.3.0)\n",
            "Requirement already satisfied: pyparsing>=2.3.1 in /usr/local/lib/python3.12/dist-packages (from matplotlib) (3.2.5)\n",
            "Requirement already satisfied: python-dateutil>=2.7 in /usr/local/lib/python3.12/dist-packages (from matplotlib) (2.9.0.post0)\n",
            "Requirement already satisfied: charset_normalizer<4,>=2 in /usr/local/lib/python3.12/dist-packages (from requests) (3.4.3)\n",
            "Requirement already satisfied: idna<4,>=2.5 in /usr/local/lib/python3.12/dist-packages (from requests) (3.10)\n",
            "Requirement already satisfied: urllib3<3,>=1.21.1 in /usr/local/lib/python3.12/dist-packages (from requests) (2.5.0)\n",
            "Requirement already satisfied: certifi>=2017.4.17 in /usr/local/lib/python3.12/dist-packages (from requests) (2025.10.5)\n",
            "Requirement already satisfied: six>=1.5 in /usr/local/lib/python3.12/dist-packages (from python-dateutil>=2.7->matplotlib) (1.17.0)\n",
            "Building wheels for collected packages: pyinputplus, pysimplevalidate, stdiomask\n",
            "  Building wheel for pyinputplus (pyproject.toml) ... \u001b[?25l\u001b[?25hdone\n",
            "  Created wheel for pyinputplus: filename=pyinputplus-0.2.12-py3-none-any.whl size=11348 sha256=73247f10f2a17029760765dbad1d51572a120a9d18e1e89379403f2f4795697f\n",
            "  Stored in directory: /root/.cache/pip/wheels/85/81/c1/325c8199c5c4de8a0b9af900ff9cd8bd69853e3d9419493512\n",
            "  Building wheel for pysimplevalidate (pyproject.toml) ... \u001b[?25l\u001b[?25hdone\n",
            "  Created wheel for pysimplevalidate: filename=pysimplevalidate-0.2.12-py3-none-any.whl size=16225 sha256=ceea73e6bf4239a2515e739033de3b5a7befc2fc5d8edd9dc1cc085ffa7627a5\n",
            "  Stored in directory: /root/.cache/pip/wheels/09/de/18/4dd2be0dbdf31870c6f0abde43b0de197b1c095655ad7da5c2\n",
            "  Building wheel for stdiomask (pyproject.toml) ... \u001b[?25l\u001b[?25hdone\n",
            "  Created wheel for stdiomask: filename=stdiomask-0.0.6-py3-none-any.whl size=3358 sha256=1db8f6f249a8bf392392e9b183b8f1ba53b3d8867980b9d5dba6eb79bacf09ec\n",
            "  Stored in directory: /root/.cache/pip/wheels/05/c7/e6/c66ff8c008b4d73f2db458feb4922075e7755853fe496e5135\n",
            "Successfully built pyinputplus pysimplevalidate stdiomask\n",
            "Installing collected packages: stdiomask, pysimplevalidate, pyinputplus\n",
            "Successfully installed pyinputplus-0.2.12 pysimplevalidate-0.2.12 stdiomask-0.0.6\n"
          ]
        }
      ]
    },
    {
      "cell_type": "markdown",
      "source": [
        "Import required packages\n"
      ],
      "metadata": {
        "id": "h-FAwZjJXIse"
      },
      "id": "h-FAwZjJXIse"
    },
    {
      "cell_type": "code",
      "source": [
        "import os\n",
        "import requests\n",
        "import matplotlib.pyplot as plt\n",
        "import pyinputplus as pyip\n",
        "\n"
      ],
      "metadata": {
        "id": "B2JKlJfrGgIb"
      },
      "id": "B2JKlJfrGgIb",
      "execution_count": 3,
      "outputs": []
    },
    {
      "cell_type": "markdown",
      "id": "f736ade3",
      "metadata": {
        "id": "f736ade3"
      },
      "source": [
        "## 🌤️ get_weather_data function is defined to fetch weather data"
      ]
    },
    {
      "cell_type": "code",
      "execution_count": 35,
      "id": "7a2c7cd0",
      "metadata": {
        "id": "7a2c7cd0"
      },
      "outputs": [],
      "source": [
        "def get_weather_data(location, forecast_days=3):\n",
        "    \"\"\"\n",
        "    Fetches weather data of  a particular city and forecast_days as arguements\n",
        "    - In the get_weather_data() function we build a api url using the city name\n",
        "    for example(\"Perth)\n",
        "    - The other arguement apart from the city is the number of forecast days\n",
        "    for which we have to observe the weather\n",
        "    -   Sends the get request to wttr from which we receive the data in JSON format\n",
        "    \"\"\"\n",
        "    url = f\"https://wttr.in/{location}?format=j1\"\n",
        "    try:\n",
        "        response = requests.get(url)\n",
        "        response.raise_for_status()\n",
        "        data = response.json()\n",
        "        data['weather'] = data['weather'][:forecast_days]\n",
        "        return data\n",
        "    except Exception as e:\n",
        "        print(f\"Error fetching weather data: {e}\")\n",
        "        return None\n",
        "\n"
      ]
    },
    {
      "cell_type": "markdown",
      "source": [
        "Analyzing the keys of the data which is fetched in JSON format"
      ],
      "metadata": {
        "id": "FzKdZdfBi-O1"
      },
      "id": "FzKdZdfBi-O1"
    },
    {
      "cell_type": "code",
      "source": [
        "weather_data = get_weather_data(\"Perth\",5)\n",
        "print(weather_data.keys())\n",
        "# knowing the keys of the data returned from wttr request in JSON format so that we can know the thype of labels or keys the JSON data have"
      ],
      "metadata": {
        "colab": {
          "base_uri": "https://localhost:8080/"
        },
        "id": "GHaL4M06bzTT",
        "outputId": "b34c6110-e35f-45af-975a-85028db6df17"
      },
      "id": "GHaL4M06bzTT",
      "execution_count": 36,
      "outputs": [
        {
          "output_type": "stream",
          "name": "stdout",
          "text": [
            "dict_keys(['current_condition', 'nearest_area', 'request', 'weather'])\n"
          ]
        }
      ]
    },
    {
      "cell_type": "markdown",
      "id": "8a744fdc",
      "metadata": {
        "id": "8a744fdc"
      },
      "source": [
        "## 📊 Visualisation Functions"
      ]
    },
    {
      "cell_type": "markdown",
      "source": [
        "Function to display plot of maximum temperature and minimum temperature for every date\n",
        "\n",
        "\n"
      ],
      "metadata": {
        "id": "A7DBNxfewSRB"
      },
      "id": "A7DBNxfewSRB"
    },
    {
      "cell_type": "code",
      "execution_count": 37,
      "id": "9dc3bf85",
      "metadata": {
        "id": "9dc3bf85"
      },
      "outputs": [],
      "source": [
        "def create_temperature_visualisation(weather_data, output_type='display'):\n",
        "    \"\"\"\n",
        "    Create visualisation of temperature data.\n",
        "\n",
        "    This chunk of code visualizes the temperature data it will have the weather_data from the get_weather_data() function and the\n",
        "    output_type is set as display to display the chart in the notebook itself\n",
        "    \"\"\"\n",
        "    days = []\n",
        "    max_temps = []\n",
        "    min_temps = []\n",
        "    for day in weather_data['weather']:\n",
        "        days.append(day['date'])\n",
        "        max_temps.append(float(day['maxtempC']))\n",
        "        min_temps.append(float(day['mintempC']))\n",
        "    fig, ax = plt.subplots()\n",
        "    ax.plot(days, max_temps, label='Max Temp (°C)', marker='o')\n",
        "    ax.plot(days, min_temps, label='Min Temp (°C)', marker='o')\n",
        "    ax.set_title('Temperature Trend')\n",
        "    ax.set_xlabel('Date')\n",
        "    ax.set_ylabel('Temperature (°C)')\n",
        "    ax.legend()\n",
        "    plt.grid(True)\n",
        "    if output_type == 'figure':\n",
        "        return fig\n",
        "    else:\n",
        "        plt.show(block=False)  # Non-blocking display\n",
        "        plt.pause(0.001)       # Allow window to render\n",
        "\n",
        "\n"
      ]
    },
    {
      "cell_type": "markdown",
      "source": [
        "Function to display plot of precipitation for every date"
      ],
      "metadata": {
        "id": "VCwaAyymwntp"
      },
      "id": "VCwaAyymwntp"
    },
    {
      "cell_type": "code",
      "source": [
        "# Precipitation Visualisation Function\n",
        "def create_precipitation_visualisation(weather_data, output_type='display'):\n",
        "    \"\"\"\n",
        "    Create visualisation of precipitation data.\n",
        "    This chunk of code visualizes the precipitation data it will have the weather_data from the get_weather_data() function and the\n",
        "    output_type is set as display to display the chart in the notebook itself\n",
        "    \"\"\"\n",
        "    days = []\n",
        "    precip = []\n",
        "    for day in weather_data['weather']:\n",
        "        days.append(day['date'])\n",
        "        # Sum up all hourly precipitation for the day\n",
        "        total_precip = sum(float(hour['precipMM']) for hour in day['hourly'])\n",
        "        precip.append(total_precip)\n",
        "    fig, ax = plt.subplots()\n",
        "    ax.bar(days, precip, color='skyblue')\n",
        "    ax.set_title('Precipitation Trend')\n",
        "    ax.set_xlabel('Date')\n",
        "    ax.set_ylabel('Precipitation (mm)')\n",
        "    plt.grid(True)\n",
        "    if output_type == 'figure':\n",
        "        return fig\n",
        "    else:\n",
        "        plt.show(block=False)\n",
        "        plt.pause(0.001)\n",
        "\n"
      ],
      "metadata": {
        "id": "HpOlQylYG5Ho"
      },
      "id": "HpOlQylYG5Ho",
      "execution_count": 50,
      "outputs": []
    },
    {
      "cell_type": "markdown",
      "source": [
        "Function to plot a graph to contrast Maximum Temperature and Rainfall"
      ],
      "metadata": {
        "id": "RocTr2W8wynm"
      },
      "id": "RocTr2W8wynm"
    },
    {
      "cell_type": "code",
      "source": [
        "def plot_temp_rain_combo(weather_data):\n",
        "    days = [day['date'] for day in weather_data['weather']]\n",
        "    max_temps = [int(day['maxtempC']) for day in weather_data['weather']]\n",
        "    rainfall = [sum(float(hr['precipMM']) for hr in day['hourly']) for day in weather_data['weather']]\n",
        "\n",
        "    fig, ax1 = plt.subplots(figsize=(8, 5))\n",
        "    ax1.bar(days, rainfall, color='skyblue', alpha=0.6, label='Rainfall (mm)')\n",
        "    ax1.set_ylabel('Rainfall (mm)', color='blue')\n",
        "\n",
        "    ax2 = ax1.twinx()\n",
        "    ax2.plot(days, max_temps, color='red', marker='o', label='Max Temp (°C)')\n",
        "    ax2.set_ylabel('Temperature (°C)', color='red')\n",
        "\n",
        "    plt.title(\"Daily Rainfall vs. Max Temperature\")\n",
        "    fig.tight_layout()\n",
        "    plt.show(block=False)\n",
        "    plt.pause(0.001)\n"
      ],
      "metadata": {
        "id": "Rf1w3KKLd4xP"
      },
      "id": "Rf1w3KKLd4xP",
      "execution_count": 39,
      "outputs": []
    },
    {
      "cell_type": "markdown",
      "id": "9f95d160",
      "metadata": {
        "id": "9f95d160"
      },
      "source": [
        "## 🤖 Natural Language Processing"
      ]
    },
    {
      "cell_type": "markdown",
      "source": [
        "Function to Parses a natural language weather question to identify the location, weather attribute, and time period mentioned by the user."
      ],
      "metadata": {
        "id": "w9KMZjfjxHSr"
      },
      "id": "w9KMZjfjxHSr"
    },
    {
      "cell_type": "code",
      "execution_count": 40,
      "id": "bcc5833e",
      "metadata": {
        "id": "bcc5833e"
      },
      "outputs": [],
      "source": [
        "def parse_weather_question(question):\n",
        "    \"\"\"\n",
        "    Parse a natural language weather question into its components.\n",
        "\n",
        "    \"\"\"\n",
        "    question = question.lower()\n",
        "    attributes = ['temperature', 'rain', 'precipitation', 'humidity', 'wind']\n",
        "    time_periods = ['today', 'tomorrow', 'day after tomorrow']\n",
        "    location = None\n",
        "    attribute = None\n",
        "    time_period = 'today'\n",
        "    for att in attributes:\n",
        "        if att in question:\n",
        "            attribute = att\n",
        "            break\n",
        "    for tp in time_periods:\n",
        "        if tp in question:\n",
        "            time_period = tp\n",
        "            break\n",
        "    words = question.split()\n",
        "    if 'in' in words:\n",
        "        idx = words.index('in')\n",
        "        if idx + 1 < len(words):\n",
        "            location = words[idx + 1]\n",
        "    else:\n",
        "        location = 'Perth'\n",
        "    return {'location': location, 'attribute': attribute, 'time_period': time_period}\n",
        "\n"
      ]
    },
    {
      "cell_type": "code",
      "source": [
        "## Testing the Parser\n",
        "parse_weather_question('What is the Temperature of Perth Tomorrow')"
      ],
      "metadata": {
        "id": "bDkVtvggxMdF",
        "outputId": "165ee6b2-50ed-4c21-cd07-a861aa641a41",
        "colab": {
          "base_uri": "https://localhost:8080/"
        }
      },
      "id": "bDkVtvggxMdF",
      "execution_count": 41,
      "outputs": [
        {
          "output_type": "execute_result",
          "data": {
            "text/plain": [
              "{'location': 'Perth', 'attribute': 'temperature', 'time_period': 'tomorrow'}"
            ]
          },
          "metadata": {},
          "execution_count": 41
        }
      ]
    },
    {
      "cell_type": "code",
      "execution_count": 9,
      "id": "fa6cb0f6",
      "metadata": {
        "id": "fa6cb0f6"
      },
      "outputs": [],
      "source": []
    },
    {
      "cell_type": "markdown",
      "id": "d643a53c",
      "metadata": {
        "id": "d643a53c"
      },
      "source": [
        "## 🧩 Main Application Logic"
      ]
    },
    {
      "cell_type": "code",
      "execution_count": 43,
      "id": "a9e2e805",
      "metadata": {
        "id": "a9e2e805"
      },
      "outputs": [],
      "source": [
        "# Tie everything together here\n",
        "def generate_weather_response(parsed_question, weather_data):\n",
        "    \"\"\"\n",
        "    Generate a natural language response to a weather question.\n",
        "\n",
        "    Args:\n",
        "        parsed_question (dict): Parsed question data\n",
        "        weather_data (dict): Weather data\n",
        "\n",
        "    Returns:\n",
        "        str: Natural language response\n",
        "    \"\"\"\n",
        "    location = parsed_question['location']\n",
        "    attribute = parsed_question['attribute']\n",
        "    time_period = parsed_question['time_period']\n",
        "    day_idx = 0\n",
        "    if time_period == 'tomorrow':\n",
        "        day_idx = 1\n",
        "    elif time_period == 'day after tomorrow':\n",
        "        day_idx = 2\n",
        "    try:\n",
        "        day_data = weather_data['weather'][day_idx]\n",
        "        if attribute in ['temperature', None]:\n",
        "            max_temp = day_data['maxtempC']\n",
        "            min_temp = day_data['mintempC']\n",
        "            return f\"In {location.title()} on {day_data['date']}, the temperature will range from {min_temp}°C to {max_temp}°C.\"\n",
        "        elif attribute in ['rain', 'precipitation']:\n",
        "            precip = sum(float(hour['precipMM']) for hour in day_data['hourly'])\n",
        "            return f\"In {location.title()} on {day_data['date']}, the total precipitation is {precip:.1f} mm.\"\n",
        "        elif attribute == 'humidity':\n",
        "            humidity = day_data['hourly'][0]['humidity']\n",
        "            return f\"In {location.title()} on {day_data['date']}, the humidity will be {humidity}%.\"\n",
        "        elif attribute == 'wind':\n",
        "            wind = day_data['hourly'][0]['windspeedKmph']\n",
        "            return f\"In {location.title()} on {day_data['date']}, the wind speed will be {wind} km/h.\"\n",
        "        else:\n",
        "            return f\"Sorry, I couldn't understand the weather attribute you asked for.\"\n",
        "    except Exception as e:\n",
        "        return f\"Sorry, I couldn't retrieve the weather information: {e}\"\n"
      ]
    },
    {
      "cell_type": "markdown",
      "id": "0d85225e",
      "metadata": {
        "id": "0d85225e"
      },
      "source": [
        "## 🧭 Main Menu\n"
      ]
    },
    {
      "cell_type": "code",
      "source": [
        "\n",
        "def main_menu():\n",
        "    print(\"Welcome to Weather Advisor!\")\n",
        "    while True:\n",
        "        print(\"\\nPlease choose an option:\")\n",
        "        print(\"1 - View Weather Information\")\n",
        "        print(\"2 - Ask a Weather Question\")\n",
        "        print(\"3 - Display Temperature Graph\")\n",
        "        print(\"4 - Display Rain/Precipitation Graph\")\n",
        "        print(\"5 - Display Combination of Rain and Precipitation Graph \")\n",
        "        print(\"6 - Quit\")\n",
        "\n",
        "        choice = pyip.inputChoice(['1','2','3','4','5','6'], prompt=\"Enter choice (1-6): \")\n",
        "\n",
        "        if choice == '6':\n",
        "            print(\"Goodbye!\")\n",
        "            break\n",
        "\n",
        "        location = pyip.inputStr(prompt=\"Enter location (city name): \")\n",
        "        weather_data = get_weather_data(location, forecast_days=3)\n",
        "        if not weather_data:\n",
        "            print(\"Could not retrieve weather data. Please try again.\")\n",
        "            continue\n",
        "\n",
        "        if choice == '1':\n",
        "            response = generate_weather_response({'location': location, 'attribute': None, 'time_period': 'today'}, weather_data)\n",
        "            print(response)\n",
        "        elif choice == '2':\n",
        "            question = pyip.inputStr(prompt=\"Ask your weather question: \")\n",
        "            parsed = parse_weather_question(question)\n",
        "            parsed['location'] = location\n",
        "            response = generate_weather_response(parsed, weather_data)\n",
        "            print(response)\n",
        "        elif choice == '3':\n",
        "            create_temperature_visualisation(weather_data)\n",
        "        elif choice == '4':\n",
        "            create_precipitation_visualisation(weather_data)\n",
        "        elif choice == '5':\n",
        "            plot_temp_rain_combo(weather_data)\n",
        "\n",
        ""
      ],
      "metadata": {
        "id": "Yg45eUO2MgFb"
      },
      "id": "Yg45eUO2MgFb",
      "execution_count": 53,
      "outputs": []
    },
    {
      "cell_type": "code",
      "execution_count": 51,
      "id": "4e573901",
      "metadata": {
        "id": "4e573901",
        "colab": {
          "base_uri": "https://localhost:8080/",
          "height": 1000
        },
        "outputId": "18d7612d-d9fa-461e-c53a-27e8b6863115"
      },
      "outputs": [
        {
          "name": "stdout",
          "output_type": "stream",
          "text": [
            "Welcome to Weather Advisor!\n",
            "\n",
            "Please choose an option:\n",
            "1 - View Weather Information\n",
            "2 - Ask a Weather Question\n",
            "3 - Display Temperature Graph\n",
            "4 - Display Rain/Precipitation Graph\n",
            "5 - Display Combination of Rain and Precipitation Graph \n",
            "6 - Quit\n",
            "Enter choice (1-6): 4\n",
            "Enter location (city name): Perth\n"
          ]
        },
        {
          "output_type": "display_data",
          "data": {
            "text/plain": [
              "<Figure size 640x480 with 1 Axes>"
            ],
            "image/png": "[encoded data removed]"
          },
          "metadata": {}
        },
        {
          "name": "stdout",
          "output_type": "stream",
          "text": [
            "\n",
            "Please choose an option:\n",
            "1 - View Weather Information\n",
            "2 - Ask a Weather Question\n",
            "3 - Display Temperature Graph\n",
            "4 - Display Rain/Precipitation Graph\n",
            "5 - Display Combination of Rain and Precipitation Graph \n",
            "6 - Quit\n",
            "Enter choice (1-6): \n",
            "Blank values are not allowed.\n",
            "Enter choice (1-6): 1\n",
            "Enter location (city name): Perth\n",
            "In Perth on 2025-10-17, the temperature will range from 15°C to 26°C.\n",
            "\n",
            "Please choose an option:\n",
            "1 - View Weather Information\n",
            "2 - Ask a Weather Question\n",
            "3 - Display Temperature Graph\n",
            "4 - Display Rain/Precipitation Graph\n",
            "5 - Display Combination of Rain and Precipitation Graph \n",
            "6 - Quit\n",
            "Enter choice (1-6): 2\n",
            "Enter location (city name): Perth\n",
            "Ask your weather question: Wind in perth tomorrow\n",
            "In Perth on 2025-10-18, the wind speed will be 17 km/h.\n",
            "\n",
            "Please choose an option:\n",
            "1 - View Weather Information\n",
            "2 - Ask a Weather Question\n",
            "3 - Display Temperature Graph\n",
            "4 - Display Rain/Precipitation Graph\n",
            "5 - Display Combination of Rain and Precipitation Graph \n",
            "6 - Quit\n",
            "Enter choice (1-6): 4\n",
            "Enter location (city name): Perth\n"
          ]
        },
        {
          "output_type": "display_data",
          "data": {
            "text/plain": [
              "<Figure size 640x480 with 1 Axes>"
            ],
            "image/png": "[encoded data removed]"
          },
          "metadata": {}
        },
        {
          "name": "stdout",
          "output_type": "stream",
          "text": [
            "\n",
            "Please choose an option:\n",
            "1 - View Weather Information\n",
            "2 - Ask a Weather Question\n",
            "3 - Display Temperature Graph\n",
            "4 - Display Rain/Precipitation Graph\n",
            "5 - Display Combination of Rain and Precipitation Graph \n",
            "6 - Quit\n",
            "Enter choice (1-6): 5\n",
            "Enter location (city name): Perth\n"
          ]
        },
        {
          "output_type": "display_data",
          "data": {
            "text/plain": [
              "<Figure size 800x500 with 2 Axes>"
            ],
            "image/png": "[encoded data removed]"
          },
          "metadata": {}
        },
        {
          "output_type": "stream",
          "name": "stdout",
          "text": [
            "\n",
            "Please choose an option:\n",
            "1 - View Weather Information\n",
            "2 - Ask a Weather Question\n",
            "3 - Display Temperature Graph\n",
            "4 - Display Rain/Precipitation Graph\n",
            "5 - Display Combination of Rain and Precipitation Graph \n",
            "6 - Quit\n",
            "Enter choice (1-6): 6\n",
            "Goodbye!\n"
          ]
        }
      ],
      "source": [
        "# Include sample input/output for each function\n",
        "main_menu()"
      ]
    },
    {
      "cell_type": "markdown",
      "source": [
        "Sample Questions To ask"
      ],
      "metadata": {
        "id": "n6y3dx900WeW"
      },
      "id": "n6y3dx900WeW"
    },
    {
      "cell_type": "code",
      "source": [
        "# 🌤 Temperature-related\n",
        "\n",
        "# “What’s the temperature in Perth today?”\n",
        "\n",
        "# “How hot will it be in Sydney tomorrow?”\n",
        "\n",
        "# “Tell me the temperature in Melbourne the day after tomorrow.”\n",
        "\n",
        "# “What is the maximum temperature in Perth today?”\n",
        "\n",
        "# 🌧 Rain / Precipitation-related\n",
        "\n",
        "# “Will it rain in Perth today?”\n",
        "\n",
        "# “How much rain in Brisbane tomorrow?”\n",
        "\n",
        "# “What is the precipitation in Adelaide the day after tomorrow?”\n",
        "\n",
        "# “Is there any rain forecast in Perth today?”\n",
        "\n",
        "# 💨 Wind-related\n",
        "\n",
        "# “What is the wind speed in Perth today?”\n",
        "\n",
        "# “Tell me the wind in Hobart tomorrow.”\n",
        "\n",
        "# 💧 Humidity-related\n",
        "\n",
        "# “What’s the humidity in Perth today?”\n",
        "\n",
        "# “How humid will it be in Darwin tomorrow?”\n",
        "\n",
        "# 🗓 Time-period variations\n",
        "\n",
        "# “What’s the weather in Perth today?”\n",
        "\n",
        "# “Weather forecast for Perth tomorrow.”\n",
        "\n",
        "# “Weather in Perth the day after tomorrow.”"
      ],
      "metadata": {
        "id": "hvpV-Jbn0ZOk"
      },
      "id": "hvpV-Jbn0ZOk",
      "execution_count": null,
      "outputs": []
    },
    {
      "cell_type": "markdown",
      "id": "fde44479",
      "metadata": {
        "id": "fde44479"
      },
      "source": [
        "# 🧪 Testing and Examples\n",
        "## Testing the get_weather_data function on mock data and errors\n",
        "\n",
        "\n",
        "\n"
      ]
    },
    {
      "cell_type": "code",
      "source": [
        "import unittest\n",
        "from unittest.mock import patch, Mock\n",
        "\n",
        "#testing the getweatherdata function on mock data and errors\n",
        "\n",
        "class TestWeatherAdvisor(unittest.TestCase):\n",
        "    @patch('requests.get')\n",
        "    def test_get_weather_data_success(self, mock_get):\n",
        "\n",
        "        mock_response = Mock()\n",
        "        mock_response.status_code = 200\n",
        "        mock_response.json.return_value = {\n",
        "            'weather': [\n",
        "                {'date': '2025-10-16', 'maxtempC': '25', 'mintempC': '15', 'hourly': [{'precipMM': '0'}]*8},\n",
        "                {'date': '2025-10-17', 'maxtempC': '22', 'mintempC': '13', 'hourly': [{'precipMM': '1'}]*8},\n",
        "                {'date': '2025-10-18', 'maxtempC': '20', 'mintempC': '12', 'hourly': [{'precipMM': '2'}]*8}\n",
        "            ]\n",
        "        }\n",
        "        mock_get.return_value = mock_response\n",
        "\n",
        "\n",
        "        result = get_weather_data('Perth', 3)\n",
        "        self.assertIsNotNone(result)\n",
        "        self.assertEqual(len(result['weather']), 3)\n",
        "        self.assertEqual(result['weather'][0]['date'], '2025-10-16')\n",
        "\n",
        "    @patch('requests.get')\n",
        "    def test_get_weather_data_network_error(self, mock_get):\n",
        "        mock_get.side_effect = Exception(\"Network error\")\n",
        "        result = get_weather_data('Perth', 3)\n",
        "        self.assertIsNone(result)\n",
        "\n",
        "if __name__ == '__main__':\n",
        "    unittest.main(argv=['first-arg-is-ignored'], exit=False)\n",
        "\n"
      ],
      "metadata": {
        "colab": {
          "base_uri": "https://localhost:8080/"
        },
        "id": "j3vqXejIVEo-",
        "outputId": "161fa465-690c-4bf5-e029-e0a8257b5921"
      },
      "id": "j3vqXejIVEo-",
      "execution_count": 27,
      "outputs": [
        {
          "output_type": "stream",
          "name": "stderr",
          "text": [
            "..\n",
            "----------------------------------------------------------------------\n",
            "Ran 2 tests in 0.007s\n",
            "\n",
            "OK\n"
          ]
        },
        {
          "output_type": "stream",
          "name": "stdout",
          "text": [
            "Error fetching weather data: Network error\n"
          ]
        }
      ]
    },
    {
      "cell_type": "markdown",
      "id": "d2885880",
      "metadata": {
        "id": "d2885880"
      },
      "source": [
        "## 🗂️ AI Prompting Log (Optional)\n",
        "Add markdown cells here summarising prompts used or link to AI conversations in the `ai-conversations/` folder."
      ]
    },
    {
      "cell_type": "markdown",
      "source": [
        "Link to the AI Conversations - https://github.com/harshmalik2001/Weatherwise-Harsh-Malik/tree/main/ai-conversations"
      ],
      "metadata": {
        "id": "zyUI_-s-hwRX"
      },
      "id": "zyUI_-s-hwRX"
    }
  ],
  "metadata": {
    "language_info": {
      "name": "python"
    },
    "colab": {
      "provenance": [],
      "include_colab_link": true
    },
    "kernelspec": {
      "name": "python3",
      "display_name": "Python 3"
    }
  },
  "nbformat": 4,
  "nbformat_minor": 5
}